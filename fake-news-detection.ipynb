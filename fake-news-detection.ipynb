{
 "cells": [
  {
   "cell_type": "markdown",
   "id": "56fee697",
   "metadata": {
    "papermill": {
     "duration": 0.027038,
     "end_time": "2021-08-01T10:27:23.172011",
     "exception": false,
     "start_time": "2021-08-01T10:27:23.144973",
     "status": "completed"
    },
    "tags": []
   },
   "source": [
    "<p style=\"font-family: Arials; line-height: 1.3; font-size: 30px; font-weight: bold; letter-spacing: 2px; text-align: center; color: #23527c\">Exploring the news dataset</p>\n"
   ]
  },
  {
   "cell_type": "markdown",
   "id": "5e9f8ff4",
   "metadata": {},
   "source": [
    "pip install wordcloud\n"
   ]
  },
  {
   "attachments": {},
   "cell_type": "markdown",
   "id": "aa207053",
   "metadata": {},
   "source": [
    "pip install gensim "
   ]
  },
  {
   "cell_type": "code",
   "execution_count": 128,
   "id": "2c27f5bf",
   "metadata": {
    "execution": {
     "iopub.execute_input": "2021-08-01T10:27:23.358127Z",
     "iopub.status.busy": "2021-08-01T10:27:23.351104Z",
     "iopub.status.idle": "2021-08-01T10:27:35.733704Z",
     "shell.execute_reply": "2021-08-01T10:27:35.732780Z",
     "shell.execute_reply.started": "2021-08-01T10:16:01.026979Z"
    },
    "papermill": {
     "duration": 12.422269,
     "end_time": "2021-08-01T10:27:35.733884",
     "exception": false,
     "start_time": "2021-08-01T10:27:23.311615",
     "status": "completed"
    },
    "tags": []
   },
   "outputs": [
    {
     "name": "stderr",
     "output_type": "stream",
     "text": [
      "[nltk_data] Downloading package punkt to\n",
      "[nltk_data]     C:\\Users\\KALITOH\\AppData\\Roaming\\nltk_data...\n",
      "[nltk_data]   Package punkt is already up-to-date!\n"
     ]
    }
   ],
   "source": [
    "# This Python 3 environment comes with many helpful analytics libraries installed\n",
    "# It is defined by the kaggle/python Docker image: https://github.com/kaggle/docker-python\n",
    "# For example, here's several helpful packages to load\n",
    "\n",
    "import numpy as np # linear algebra\n",
    "import pandas as pd \n",
    "import nltk\n",
    "nltk.download('punkt')\n",
    "import matplotlib.pyplot as plt\n",
    "import seaborn as sns\n",
    "from wordcloud import WordCloud, STOPWORDS\n",
    "import nltk\n",
    "import re\n",
    "from nltk.corpus import stopwords\n",
    "import seaborn as sns \n",
    "import gensim\n",
    "from gensim.utils import simple_preprocess\n",
    "from gensim.parsing.preprocessing import STOPWORDS\n",
    "import warnings\n",
    "warnings.filterwarnings('ignore')\n",
    "\n",
    "import plotly.express as px\n",
    "from sklearn.model_selection import train_test_split\n",
    "from sklearn.feature_extraction.text import CountVectorizer\n",
    "from sklearn.linear_model import LogisticRegression\n",
    "from sklearn.metrics import roc_auc_score\n",
    "from sklearn.metrics import confusion_matrix\n",
    "from sklearn.model_selection import train_test_split\n",
    "from sklearn import metrics\n",
    "from sklearn.feature_extraction.text import CountVectorizer\n",
    "from sklearn.ensemble import RandomForestClassifier, AdaBoostClassifier\n",
    "from sklearn.tree import DecisionTreeClassifier\n"
   ]
  },
  {
   "cell_type": "markdown",
   "id": "bde0a102",
   "metadata": {
    "papermill": {
     "duration": 0.027623,
     "end_time": "2021-08-01T10:27:35.789408",
     "exception": false,
     "start_time": "2021-08-01T10:27:35.761785",
     "status": "completed"
    },
    "tags": []
   },
   "source": [
    "<p style=\"font-family: Arials; line-height: 1.3; font-size: 27px; font-weight: bold; letter-spacing: 2px; text-align: center; color: #23527c\">Reading the dataset</p>"
   ]
  },
  {
   "cell_type": "code",
   "execution_count": 129,
   "id": "c2b68892",
   "metadata": {
    "execution": {
     "iopub.execute_input": "2021-08-01T10:27:35.851188Z",
     "iopub.status.busy": "2021-08-01T10:27:35.850393Z",
     "iopub.status.idle": "2021-08-01T10:27:36.192655Z",
     "shell.execute_reply": "2021-08-01T10:27:36.191990Z",
     "shell.execute_reply.started": "2021-08-01T10:16:08.302833Z"
    },
    "papermill": {
     "duration": 0.375026,
     "end_time": "2021-08-01T10:27:36.192800",
     "exception": false,
     "start_time": "2021-08-01T10:27:35.817774",
     "status": "completed"
    },
    "tags": []
   },
   "outputs": [
    {
     "name": "stdout",
     "output_type": "stream",
     "text": [
      "(2096, 12)\n"
     ]
    },
    {
     "data": {
      "text/html": [
       "<div>\n",
       "<style scoped>\n",
       "    .dataframe tbody tr th:only-of-type {\n",
       "        vertical-align: middle;\n",
       "    }\n",
       "\n",
       "    .dataframe tbody tr th {\n",
       "        vertical-align: top;\n",
       "    }\n",
       "\n",
       "    .dataframe thead th {\n",
       "        text-align: right;\n",
       "    }\n",
       "</style>\n",
       "<table border=\"1\" class=\"dataframe\">\n",
       "  <thead>\n",
       "    <tr style=\"text-align: right;\">\n",
       "      <th></th>\n",
       "      <th>author</th>\n",
       "      <th>published</th>\n",
       "      <th>title</th>\n",
       "      <th>text</th>\n",
       "      <th>language</th>\n",
       "      <th>site_url</th>\n",
       "      <th>main_img_url</th>\n",
       "      <th>type</th>\n",
       "      <th>label</th>\n",
       "      <th>title_without_stopwords</th>\n",
       "      <th>text_without_stopwords</th>\n",
       "      <th>hasImage</th>\n",
       "    </tr>\n",
       "  </thead>\n",
       "  <tbody>\n",
       "    <tr>\n",
       "      <th>0</th>\n",
       "      <td>Barracuda Brigade</td>\n",
       "      <td>2016-10-26T21:41:00.000+03:00</td>\n",
       "      <td>muslims busted they stole millions in govt ben...</td>\n",
       "      <td>print they should pay all the back all the mon...</td>\n",
       "      <td>english</td>\n",
       "      <td>100percentfedup.com</td>\n",
       "      <td>http://bb4sp.com/wp-content/uploads/2016/10/Fu...</td>\n",
       "      <td>bias</td>\n",
       "      <td>Real</td>\n",
       "      <td>muslims busted stole millions govt benefits</td>\n",
       "      <td>print pay back money plus interest entire fami...</td>\n",
       "      <td>1.0</td>\n",
       "    </tr>\n",
       "    <tr>\n",
       "      <th>1</th>\n",
       "      <td>reasoning with facts</td>\n",
       "      <td>2016-10-29T08:47:11.259+03:00</td>\n",
       "      <td>re why did attorney general loretta lynch plea...</td>\n",
       "      <td>why did attorney general loretta lynch plead t...</td>\n",
       "      <td>english</td>\n",
       "      <td>100percentfedup.com</td>\n",
       "      <td>http://bb4sp.com/wp-content/uploads/2016/10/Fu...</td>\n",
       "      <td>bias</td>\n",
       "      <td>Real</td>\n",
       "      <td>attorney general loretta lynch plead fifth</td>\n",
       "      <td>attorney general loretta lynch plead fifth bar...</td>\n",
       "      <td>1.0</td>\n",
       "    </tr>\n",
       "    <tr>\n",
       "      <th>2</th>\n",
       "      <td>Barracuda Brigade</td>\n",
       "      <td>2016-10-31T01:41:49.479+02:00</td>\n",
       "      <td>breaking weiner cooperating with fbi on hillar...</td>\n",
       "      <td>red state  \\nfox news sunday reported this mor...</td>\n",
       "      <td>english</td>\n",
       "      <td>100percentfedup.com</td>\n",
       "      <td>http://bb4sp.com/wp-content/uploads/2016/10/Fu...</td>\n",
       "      <td>bias</td>\n",
       "      <td>Real</td>\n",
       "      <td>breaking weiner cooperating fbi hillary email ...</td>\n",
       "      <td>red state fox news sunday reported morning ant...</td>\n",
       "      <td>1.0</td>\n",
       "    </tr>\n",
       "    <tr>\n",
       "      <th>3</th>\n",
       "      <td>Fed Up</td>\n",
       "      <td>2016-11-01T05:22:00.000+02:00</td>\n",
       "      <td>pin drop speech by father of daughter kidnappe...</td>\n",
       "      <td>email kayla mueller was a prisoner and torture...</td>\n",
       "      <td>english</td>\n",
       "      <td>100percentfedup.com</td>\n",
       "      <td>http://100percentfedup.com/wp-content/uploads/...</td>\n",
       "      <td>bias</td>\n",
       "      <td>Real</td>\n",
       "      <td>pin drop speech father daughter kidnapped kill...</td>\n",
       "      <td>email kayla mueller prisoner tortured isis cha...</td>\n",
       "      <td>1.0</td>\n",
       "    </tr>\n",
       "    <tr>\n",
       "      <th>4</th>\n",
       "      <td>Fed Up</td>\n",
       "      <td>2016-11-01T21:56:00.000+02:00</td>\n",
       "      <td>fantastic trumps  point plan to reform healthc...</td>\n",
       "      <td>email healthcare reform to make america great ...</td>\n",
       "      <td>english</td>\n",
       "      <td>100percentfedup.com</td>\n",
       "      <td>http://100percentfedup.com/wp-content/uploads/...</td>\n",
       "      <td>bias</td>\n",
       "      <td>Real</td>\n",
       "      <td>fantastic trumps point plan reform healthcare ...</td>\n",
       "      <td>email healthcare reform make america great sin...</td>\n",
       "      <td>1.0</td>\n",
       "    </tr>\n",
       "  </tbody>\n",
       "</table>\n",
       "</div>"
      ],
      "text/plain": [
       "                 author                      published  \\\n",
       "0     Barracuda Brigade  2016-10-26T21:41:00.000+03:00   \n",
       "1  reasoning with facts  2016-10-29T08:47:11.259+03:00   \n",
       "2     Barracuda Brigade  2016-10-31T01:41:49.479+02:00   \n",
       "3                Fed Up  2016-11-01T05:22:00.000+02:00   \n",
       "4                Fed Up  2016-11-01T21:56:00.000+02:00   \n",
       "\n",
       "                                               title  \\\n",
       "0  muslims busted they stole millions in govt ben...   \n",
       "1  re why did attorney general loretta lynch plea...   \n",
       "2  breaking weiner cooperating with fbi on hillar...   \n",
       "3  pin drop speech by father of daughter kidnappe...   \n",
       "4  fantastic trumps  point plan to reform healthc...   \n",
       "\n",
       "                                                text language  \\\n",
       "0  print they should pay all the back all the mon...  english   \n",
       "1  why did attorney general loretta lynch plead t...  english   \n",
       "2  red state  \\nfox news sunday reported this mor...  english   \n",
       "3  email kayla mueller was a prisoner and torture...  english   \n",
       "4  email healthcare reform to make america great ...  english   \n",
       "\n",
       "              site_url                                       main_img_url  \\\n",
       "0  100percentfedup.com  http://bb4sp.com/wp-content/uploads/2016/10/Fu...   \n",
       "1  100percentfedup.com  http://bb4sp.com/wp-content/uploads/2016/10/Fu...   \n",
       "2  100percentfedup.com  http://bb4sp.com/wp-content/uploads/2016/10/Fu...   \n",
       "3  100percentfedup.com  http://100percentfedup.com/wp-content/uploads/...   \n",
       "4  100percentfedup.com  http://100percentfedup.com/wp-content/uploads/...   \n",
       "\n",
       "   type label                            title_without_stopwords  \\\n",
       "0  bias  Real        muslims busted stole millions govt benefits   \n",
       "1  bias  Real         attorney general loretta lynch plead fifth   \n",
       "2  bias  Real  breaking weiner cooperating fbi hillary email ...   \n",
       "3  bias  Real  pin drop speech father daughter kidnapped kill...   \n",
       "4  bias  Real  fantastic trumps point plan reform healthcare ...   \n",
       "\n",
       "                              text_without_stopwords  hasImage  \n",
       "0  print pay back money plus interest entire fami...       1.0  \n",
       "1  attorney general loretta lynch plead fifth bar...       1.0  \n",
       "2  red state fox news sunday reported morning ant...       1.0  \n",
       "3  email kayla mueller prisoner tortured isis cha...       1.0  \n",
       "4  email healthcare reform make america great sin...       1.0  "
      ]
     },
     "execution_count": 129,
     "metadata": {},
     "output_type": "execute_result"
    }
   ],
   "source": [
    "# Read CSV file into a DataFrame\n",
    "df = pd.read_csv(\"news_articles.csv\")\n",
    "\n",
    "# Print the shape of the DataFrame\n",
    "print(df.shape)\n",
    "\n",
    "# Display the first few rows of the DataFrame\n",
    "df.head()\n"
   ]
  },
  {
   "cell_type": "code",
   "execution_count": 130,
   "id": "bb2a0cff",
   "metadata": {
    "execution": {
     "iopub.execute_input": "2021-08-01T10:27:36.260996Z",
     "iopub.status.busy": "2021-08-01T10:27:36.260222Z",
     "iopub.status.idle": "2021-08-01T10:27:36.264252Z",
     "shell.execute_reply": "2021-08-01T10:27:36.263737Z",
     "shell.execute_reply.started": "2021-08-01T10:16:08.427553Z"
    },
    "papermill": {
     "duration": 0.042779,
     "end_time": "2021-08-01T10:27:36.264397",
     "exception": false,
     "start_time": "2021-08-01T10:27:36.221618",
     "status": "completed"
    },
    "tags": []
   },
   "outputs": [
    {
     "data": {
      "text/plain": [
       "author                      0\n",
       "published                   0\n",
       "title                       0\n",
       "text                       46\n",
       "language                    1\n",
       "site_url                    1\n",
       "main_img_url                1\n",
       "type                        1\n",
       "label                       1\n",
       "title_without_stopwords     2\n",
       "text_without_stopwords     50\n",
       "hasImage                    1\n",
       "dtype: int64"
      ]
     },
     "execution_count": 130,
     "metadata": {},
     "output_type": "execute_result"
    }
   ],
   "source": [
    "#Checking for null values\n",
    "df.isnull().sum()"
   ]
  },
  {
   "cell_type": "code",
   "execution_count": 131,
   "id": "33698c83",
   "metadata": {
    "execution": {
     "iopub.execute_input": "2021-08-01T10:27:36.331463Z",
     "iopub.status.busy": "2021-08-01T10:27:36.330784Z",
     "iopub.status.idle": "2021-08-01T10:27:36.350425Z",
     "shell.execute_reply": "2021-08-01T10:27:36.349694Z",
     "shell.execute_reply.started": "2021-08-01T10:16:08.441447Z"
    },
    "papermill": {
     "duration": 0.057553,
     "end_time": "2021-08-01T10:27:36.350575",
     "exception": false,
     "start_time": "2021-08-01T10:27:36.293022",
     "status": "completed"
    },
    "tags": []
   },
   "outputs": [],
   "source": [
    "#dropping null values\n",
    "df.dropna(inplace=True)"
   ]
  },
  {
   "cell_type": "markdown",
   "id": "a782959a",
   "metadata": {
    "papermill": {
     "duration": 0.02867,
     "end_time": "2021-08-01T10:27:36.408491",
     "exception": false,
     "start_time": "2021-08-01T10:27:36.379821",
     "status": "completed"
    },
    "tags": []
   },
   "source": [
    "---\n",
    "\n",
    "<p style=\"font-family: Arials; line-height: 1.3; font-size: 27px; font-weight: bold; letter-spacing: 2px; text-align: center; color: #23527c\">Exploratory data analysis</p>"
   ]
  },
  {
   "cell_type": "markdown",
   "id": "c8cdc6c9",
   "metadata": {
    "papermill": {
     "duration": 0.028654,
     "end_time": "2021-08-01T10:27:36.465785",
     "exception": false,
     "start_time": "2021-08-01T10:27:36.437131",
     "status": "completed"
    },
    "tags": []
   },
   "source": [
    "### Let's visualize the proportion of real and fake news!"
   ]
  },
  {
   "cell_type": "code",
   "execution_count": 132,
   "id": "f8d1f59a",
   "metadata": {
    "execution": {
     "iopub.execute_input": "2021-08-01T10:27:36.528912Z",
     "iopub.status.busy": "2021-08-01T10:27:36.528250Z",
     "iopub.status.idle": "2021-08-01T10:27:37.777731Z",
     "shell.execute_reply": "2021-08-01T10:27:37.777220Z",
     "shell.execute_reply.started": "2021-08-01T10:16:08.457102Z"
    },
    "papermill": {
     "duration": 1.283187,
     "end_time": "2021-08-01T10:27:37.777860",
     "exception": false,
     "start_time": "2021-08-01T10:27:36.494673",
     "status": "completed"
    },
    "tags": []
   },
   "outputs": [
    {
     "data": {
      "image/png": "[encoded data removed]",
      "text/plain": [
       "<Figure size 600x600 with 1 Axes>"
      ]
     },
     "metadata": {},
     "output_type": "display_data"
    }
   ],
   "source": [
    "import matplotlib.pyplot as plt\n",
    "import seaborn as sns\n",
    "\n",
    "# Create a pie chart using matplotlib and seaborn\n",
    "plt.figure(figsize=(6, 6))\n",
    "sns.set_palette(\"pastel\")  # Set color palette\n",
    "sns.countplot(x='label', data=df, palette=\"Set3\")\n",
    "plt.title('Proportion of Real vs. Fake News')\n",
    "plt.xlabel('Label')\n",
    "plt.ylabel('Count')\n",
    "plt.show()\n"
   ]
  },
  {
   "cell_type": "markdown",
   "id": "44f98051",
   "metadata": {
    "papermill": {
     "duration": 0.030842,
     "end_time": "2021-08-01T10:27:37.839388",
     "exception": false,
     "start_time": "2021-08-01T10:27:37.808546",
     "status": "completed"
    },
    "tags": []
   },
   "source": [
    "### Languages of News Articles"
   ]
  },
  {
   "cell_type": "code",
   "execution_count": 133,
   "id": "2ac60e6e",
   "metadata": {
    "execution": {
     "iopub.execute_input": "2021-08-01T10:27:37.909437Z",
     "iopub.status.busy": "2021-08-01T10:27:37.908670Z",
     "iopub.status.idle": "2021-08-01T10:27:38.018613Z",
     "shell.execute_reply": "2021-08-01T10:27:38.018084Z",
     "shell.execute_reply.started": "2021-08-01T10:16:08.550002Z"
    },
    "papermill": {
     "duration": 0.148803,
     "end_time": "2021-08-01T10:27:38.018756",
     "exception": false,
     "start_time": "2021-08-01T10:27:37.869953",
     "status": "completed"
    },
    "tags": []
   },
   "outputs": [
    {
     "data": {
      "image/png": "[encoded data removed]",
      "text/plain": [
       "<Figure size 1000x600 with 1 Axes>"
      ]
     },
     "metadata": {},
     "output_type": "display_data"
    }
   ],
   "source": [
    "import matplotlib.pyplot as plt\n",
    "\n",
    "# Group by 'language' and count occurrences\n",
    "sub_tf_df = df.groupby('language').size().reset_index(name='Counts')\n",
    "\n",
    "# Set up figure and axes\n",
    "fig, ax = plt.subplots(figsize=(10, 6))\n",
    "\n",
    "# Create bar plot\n",
    "bar_width = 0.35\n",
    "bar_positions = range(len(sub_tf_df))\n",
    "ax.bar(bar_positions, sub_tf_df['Counts'], color='blue', width=bar_width)\n",
    "ax.set_xticks([p + bar_width/2 for p in bar_positions])\n",
    "ax.set_xticklabels(sub_tf_df['language'])\n",
    "ax.set_xlabel('Language')\n",
    "ax.set_ylabel('Counts')\n",
    "ax.set_title('Language Counts')\n",
    "\n",
    "# Show the plot\n",
    "plt.show()\n"
   ]
  },
  {
   "cell_type": "markdown",
   "id": "d7d4fa26",
   "metadata": {
    "papermill": {
     "duration": 0.030297,
     "end_time": "2021-08-01T10:27:38.080603",
     "exception": false,
     "start_time": "2021-08-01T10:27:38.050306",
     "status": "completed"
    },
    "tags": []
   },
   "source": [
    "As we can see, English is the most common language in which most news articles are written"
   ]
  },
  {
   "cell_type": "markdown",
   "id": "a696ca5d",
   "metadata": {
    "papermill": {
     "duration": 0.030382,
     "end_time": "2021-08-01T10:27:38.141973",
     "exception": false,
     "start_time": "2021-08-01T10:27:38.111591",
     "status": "completed"
    },
    "tags": []
   },
   "source": [
    "### Visualizing count of news articles by type"
   ]
  },
  {
   "cell_type": "code",
   "execution_count": 134,
   "id": "0915927a",
   "metadata": {
    "execution": {
     "iopub.execute_input": "2021-08-01T10:27:38.210620Z",
     "iopub.status.busy": "2021-08-01T10:27:38.209928Z",
     "iopub.status.idle": "2021-08-01T10:27:38.284355Z",
     "shell.execute_reply": "2021-08-01T10:27:38.284824Z",
     "shell.execute_reply.started": "2021-08-01T10:16:08.686934Z"
    },
    "papermill": {
     "duration": 0.111573,
     "end_time": "2021-08-01T10:27:38.285006",
     "exception": false,
     "start_time": "2021-08-01T10:27:38.173433",
     "status": "completed"
    },
    "tags": []
   },
   "outputs": [
    {
     "data": {
      "application/vnd.plotly.v1+json": {
       "config": {
        "plotlyServerURL": "https://plot.ly"
       },
       "data": [
        {
         "hovertemplate": "type=%{x}<br>Counts=%{marker.color}<extra></extra>",
         "legendgroup": "",
         "marker": {
          "color": [
           389,
           598,
           430,
           15,
           244,
           102,
           146,
           121
          ],
          "coloraxis": "coloraxis",
          "size": [
           389,
           598,
           430,
           15,
           244,
           102,
           146,
           121
          ],
          "sizemode": "diameter",
          "sizeref": 0.1,
          "symbol": "circle"
         },
         "mode": "markers",
         "name": "",
         "orientation": "v",
         "showlegend": false,
         "type": "scatter",
         "x": [
          "bias",
          "bs",
          "conspiracy",
          "fake",
          "hate",
          "junksci",
          "satire",
          "state"
         ],
         "xaxis": "x",
         "y": [
          389,
          598,
          430,
          15,
          244,
          102,
          146,
          121
         ],
         "yaxis": "y"
        }
       ],
       "layout": {
        "coloraxis": {
         "colorbar": {
          "title": {
           "text": "Counts"
          }
         },
         "colorscale": [
          [
           0,
           "#0d0887"
          ],
          [
           0.1111111111111111,
           "#46039f"
          ],
          [
           0.2222222222222222,
           "#7201a8"
          ],
          [
           0.3333333333333333,
           "#9c179e"
          ],
          [
           0.4444444444444444,
           "#bd3786"
          ],
          [
           0.5555555555555556,
           "#d8576b"
          ],
          [
           0.6666666666666666,
           "#ed7953"
          ],
          [
           0.7777777777777778,
           "#fb9f3a"
          ],
          [
           0.8888888888888888,
           "#fdca26"
          ],
          [
           1,
           "#f0f921"
          ]
         ]
        },
        "legend": {
         "itemsizing": "constant",
         "tracegroupgap": 0
        },
        "template": {
         "data": {
          "bar": [
           {
            "error_x": {
             "color": "#2a3f5f"
            },
            "error_y": {
             "color": "#2a3f5f"
            },
            "marker": {
             "line": {
              "color": "#E5ECF6",
              "width": 0.5
             },
             "pattern": {
              "fillmode": "overlay",
              "size": 10,
              "solidity": 0.2
             }
            },
            "type": "bar"
           }
          ],
          "barpolar": [
           {
            "marker": {
             "line": {
              "color": "#E5ECF6",
              "width": 0.5
             },
             "pattern": {
              "fillmode": "overlay",
              "size": 10,
              "solidity": 0.2
             }
            },
            "type": "barpolar"
           }
          ],
          "carpet": [
           {
            "aaxis": {
             "endlinecolor": "#2a3f5f",
             "gridcolor": "white",
             "linecolor": "white",
             "minorgridcolor": "white",
             "startlinecolor": "#2a3f5f"
            },
            "baxis": {
             "endlinecolor": "#2a3f5f",
             "gridcolor": "white",
             "linecolor": "white",
             "minorgridcolor": "white",
             "startlinecolor": "#2a3f5f"
            },
            "type": "carpet"
           }
          ],
          "choropleth": [
           {
            "colorbar": {
             "outlinewidth": 0,
             "ticks": ""
            },
            "type": "choropleth"
           }
          ],
          "contour": [
           {
            "colorbar": {
             "outlinewidth": 0,
             "ticks": ""
            },
            "colorscale": [
             [
              0,
              "#0d0887"
             ],
             [
              0.1111111111111111,
              "#46039f"
             ],
             [
              0.2222222222222222,
              "#7201a8"
             ],
             [
              0.3333333333333333,
              "#9c179e"
             ],
             [
              0.4444444444444444,
              "#bd3786"
             ],
             [
              0.5555555555555556,
              "#d8576b"
             ],
             [
              0.6666666666666666,
              "#ed7953"
             ],
             [
              0.7777777777777778,
              "#fb9f3a"
             ],
             [
              0.8888888888888888,
              "#fdca26"
             ],
             [
              1,
              "#f0f921"
             ]
            ],
            "type": "contour"
           }
          ],
          "contourcarpet": [
           {
            "colorbar": {
             "outlinewidth": 0,
             "ticks": ""
            },
            "type": "contourcarpet"
           }
          ],
          "heatmap": [
           {
            "colorbar": {
             "outlinewidth": 0,
             "ticks": ""
            },
            "colorscale": [
             [
              0,
              "#0d0887"
             ],
             [
              0.1111111111111111,
              "#46039f"
             ],
             [
              0.2222222222222222,
              "#7201a8"
             ],
             [
              0.3333333333333333,
              "#9c179e"
             ],
             [
              0.4444444444444444,
              "#bd3786"
             ],
             [
              0.5555555555555556,
              "#d8576b"
             ],
             [
              0.6666666666666666,
              "#ed7953"
             ],
             [
              0.7777777777777778,
              "#fb9f3a"
             ],
             [
              0.8888888888888888,
              "#fdca26"
             ],
             [
              1,
              "#f0f921"
             ]
            ],
            "type": "heatmap"
           }
          ],
          "heatmapgl": [
           {
            "colorbar": {
             "outlinewidth": 0,
             "ticks": ""
            },
            "colorscale": [
             [
              0,
              "#0d0887"
             ],
             [
              0.1111111111111111,
              "#46039f"
             ],
             [
              0.2222222222222222,
              "#7201a8"
             ],
             [
              0.3333333333333333,
              "#9c179e"
             ],
             [
              0.4444444444444444,
              "#bd3786"
             ],
             [
              0.5555555555555556,
              "#d8576b"
             ],
             [
              0.6666666666666666,
              "#ed7953"
             ],
             [
              0.7777777777777778,
              "#fb9f3a"
             ],
             [
              0.8888888888888888,
              "#fdca26"
             ],
             [
              1,
              "#f0f921"
             ]
            ],
            "type": "heatmapgl"
           }
          ],
          "histogram": [
           {
            "marker": {
             "pattern": {
              "fillmode": "overlay",
              "size": 10,
              "solidity": 0.2
             }
            },
            "type": "histogram"
           }
          ],
          "histogram2d": [
           {
            "colorbar": {
             "outlinewidth": 0,
             "ticks": ""
            },
            "colorscale": [
             [
              0,
              "#0d0887"
             ],
             [
              0.1111111111111111,
              "#46039f"
             ],
             [
              0.2222222222222222,
              "#7201a8"
             ],
             [
              0.3333333333333333,
              "#9c179e"
             ],
             [
              0.4444444444444444,
              "#bd3786"
             ],
             [
              0.5555555555555556,
              "#d8576b"
             ],
             [
              0.6666666666666666,
              "#ed7953"
             ],
             [
              0.7777777777777778,
              "#fb9f3a"
             ],
             [
              0.8888888888888888,
              "#fdca26"
             ],
             [
              1,
              "#f0f921"
             ]
            ],
            "type": "histogram2d"
           }
          ],
          "histogram2dcontour": [
           {
            "colorbar": {
             "outlinewidth": 0,
             "ticks": ""
            },
            "colorscale": [
             [
              0,
              "#0d0887"
             ],
             [
              0.1111111111111111,
              "#46039f"
             ],
             [
              0.2222222222222222,
              "#7201a8"
             ],
             [
              0.3333333333333333,
              "#9c179e"
             ],
             [
              0.4444444444444444,
              "#bd3786"
             ],
             [
              0.5555555555555556,
              "#d8576b"
             ],
             [
              0.6666666666666666,
              "#ed7953"
             ],
             [
              0.7777777777777778,
              "#fb9f3a"
             ],
             [
              0.8888888888888888,
              "#fdca26"
             ],
             [
              1,
              "#f0f921"
             ]
            ],
            "type": "histogram2dcontour"
           }
          ],
          "mesh3d": [
           {
            "colorbar": {
             "outlinewidth": 0,
             "ticks": ""
            },
            "type": "mesh3d"
           }
          ],
          "parcoords": [
           {
            "line": {
             "colorbar": {
              "outlinewidth": 0,
              "ticks": ""
             }
            },
            "type": "parcoords"
           }
          ],
          "pie": [
           {
            "automargin": true,
            "type": "pie"
           }
          ],
          "scatter": [
           {
            "fillpattern": {
             "fillmode": "overlay",
             "size": 10,
             "solidity": 0.2
            },
            "type": "scatter"
           }
          ],
          "scatter3d": [
           {
            "line": {
             "colorbar": {
              "outlinewidth": 0,
              "ticks": ""
             }
            },
            "marker": {
             "colorbar": {
              "outlinewidth": 0,
              "ticks": ""
             }
            },
            "type": "scatter3d"
           }
          ],
          "scattercarpet": [
           {
            "marker": {
             "colorbar": {
              "outlinewidth": 0,
              "ticks": ""
             }
            },
            "type": "scattercarpet"
           }
          ],
          "scattergeo": [
           {
            "marker": {
             "colorbar": {
              "outlinewidth": 0,
              "ticks": ""
             }
            },
            "type": "scattergeo"
           }
          ],
          "scattergl": [
           {
            "marker": {
             "colorbar": {
              "outlinewidth": 0,
              "ticks": ""
             }
            },
            "type": "scattergl"
           }
          ],
          "scattermapbox": [
           {
            "marker": {
             "colorbar": {
              "outlinewidth": 0,
              "ticks": ""
             }
            },
            "type": "scattermapbox"
           }
          ],
          "scatterpolar": [
           {
            "marker": {
             "colorbar": {
              "outlinewidth": 0,
              "ticks": ""
             }
            },
            "type": "scatterpolar"
           }
          ],
          "scatterpolargl": [
           {
            "marker": {
             "colorbar": {
              "outlinewidth": 0,
              "ticks": ""
             }
            },
            "type": "scatterpolargl"
           }
          ],
          "scatterternary": [
           {
            "marker": {
             "colorbar": {
              "outlinewidth": 0,
              "ticks": ""
             }
            },
            "type": "scatterternary"
           }
          ],
          "surface": [
           {
            "colorbar": {
             "outlinewidth": 0,
             "ticks": ""
            },
            "colorscale": [
             [
              0,
              "#0d0887"
             ],
             [
              0.1111111111111111,
              "#46039f"
             ],
             [
              0.2222222222222222,
              "#7201a8"
             ],
             [
              0.3333333333333333,
              "#9c179e"
             ],
             [
              0.4444444444444444,
              "#bd3786"
             ],
             [
              0.5555555555555556,
              "#d8576b"
             ],
             [
              0.6666666666666666,
              "#ed7953"
             ],
             [
              0.7777777777777778,
              "#fb9f3a"
             ],
             [
              0.8888888888888888,
              "#fdca26"
             ],
             [
              1,
              "#f0f921"
             ]
            ],
            "type": "surface"
           }
          ],
          "table": [
           {
            "cells": {
             "fill": {
              "color": "#EBF0F8"
             },
             "line": {
              "color": "white"
             }
            },
            "header": {
             "fill": {
              "color": "#C8D4E3"
             },
             "line": {
              "color": "white"
             }
            },
            "type": "table"
           }
          ]
         },
         "layout": {
          "annotationdefaults": {
           "arrowcolor": "#2a3f5f",
           "arrowhead": 0,
           "arrowwidth": 1
          },
          "autotypenumbers": "strict",
          "coloraxis": {
           "colorbar": {
            "outlinewidth": 0,
            "ticks": ""
           }
          },
          "colorscale": {
           "diverging": [
            [
             0,
             "#8e0152"
            ],
            [
             0.1,
             "#c51b7d"
            ],
            [
             0.2,
             "#de77ae"
            ],
            [
             0.3,
             "#f1b6da"
            ],
            [
             0.4,
             "#fde0ef"
            ],
            [
             0.5,
             "#f7f7f7"
            ],
            [
             0.6,
             "#e6f5d0"
            ],
            [
             0.7,
             "#b8e186"
            ],
            [
             0.8,
             "#7fbc41"
            ],
            [
             0.9,
             "#4d9221"
            ],
            [
             1,
             "#276419"
            ]
           ],
           "sequential": [
            [
             0,
             "#0d0887"
            ],
            [
             0.1111111111111111,
             "#46039f"
            ],
            [
             0.2222222222222222,
             "#7201a8"
            ],
            [
             0.3333333333333333,
             "#9c179e"
            ],
            [
             0.4444444444444444,
             "#bd3786"
            ],
            [
             0.5555555555555556,
             "#d8576b"
            ],
            [
             0.6666666666666666,
             "#ed7953"
            ],
            [
             0.7777777777777778,
             "#fb9f3a"
            ],
            [
             0.8888888888888888,
             "#fdca26"
            ],
            [
             1,
             "#f0f921"
            ]
           ],
           "sequentialminus": [
            [
             0,
             "#0d0887"
            ],
            [
             0.1111111111111111,
             "#46039f"
            ],
            [
             0.2222222222222222,
             "#7201a8"
            ],
            [
             0.3333333333333333,
             "#9c179e"
            ],
            [
             0.4444444444444444,
             "#bd3786"
            ],
            [
             0.5555555555555556,
             "#d8576b"
            ],
            [
             0.6666666666666666,
             "#ed7953"
            ],
            [
             0.7777777777777778,
             "#fb9f3a"
            ],
            [
             0.8888888888888888,
             "#fdca26"
            ],
            [
             1,
             "#f0f921"
            ]
           ]
          },
          "colorway": [
           "#636efa",
           "#EF553B",
           "#00cc96",
           "#ab63fa",
           "#FFA15A",
           "#19d3f3",
           "#FF6692",
           "#B6E880",
           "#FF97FF",
           "#FECB52"
          ],
          "font": {
           "color": "#2a3f5f"
          },
          "geo": {
           "bgcolor": "white",
           "lakecolor": "white",
           "landcolor": "#E5ECF6",
           "showlakes": true,
           "showland": true,
           "subunitcolor": "white"
          },
          "hoverlabel": {
           "align": "left"
          },
          "hovermode": "closest",
          "mapbox": {
           "style": "light"
          },
          "paper_bgcolor": "white",
          "plot_bgcolor": "#E5ECF6",
          "polar": {
           "angularaxis": {
            "gridcolor": "white",
            "linecolor": "white",
            "ticks": ""
           },
           "bgcolor": "#E5ECF6",
           "radialaxis": {
            "gridcolor": "white",
            "linecolor": "white",
            "ticks": ""
           }
          },
          "scene": {
           "xaxis": {
            "backgroundcolor": "#E5ECF6",
            "gridcolor": "white",
            "gridwidth": 2,
            "linecolor": "white",
            "showbackground": true,
            "ticks": "",
            "zerolinecolor": "white"
           },
           "yaxis": {
            "backgroundcolor": "#E5ECF6",
            "gridcolor": "white",
            "gridwidth": 2,
            "linecolor": "white",
            "showbackground": true,
            "ticks": "",
            "zerolinecolor": "white"
           },
           "zaxis": {
            "backgroundcolor": "#E5ECF6",
            "gridcolor": "white",
            "gridwidth": 2,
            "linecolor": "white",
            "showbackground": true,
            "ticks": "",
            "zerolinecolor": "white"
           }
          },
          "shapedefaults": {
           "line": {
            "color": "#2a3f5f"
           }
          },
          "ternary": {
           "aaxis": {
            "gridcolor": "white",
            "linecolor": "white",
            "ticks": ""
           },
           "baxis": {
            "gridcolor": "white",
            "linecolor": "white",
            "ticks": ""
           },
           "bgcolor": "#E5ECF6",
           "caxis": {
            "gridcolor": "white",
            "linecolor": "white",
            "ticks": ""
           }
          },
          "title": {
           "x": 0.05
          },
          "xaxis": {
           "automargin": true,
           "gridcolor": "white",
           "linecolor": "white",
           "ticks": "",
           "title": {
            "standoff": 15
           },
           "zerolinecolor": "white",
           "zerolinewidth": 2
          },
          "yaxis": {
           "automargin": true,
           "gridcolor": "white",
           "linecolor": "white",
           "ticks": "",
           "title": {
            "standoff": 15
           },
           "zerolinecolor": "white",
           "zerolinewidth": 2
          }
         }
        },
        "title": {
         "text": "Count of News Articles by Type"
        },
        "xaxis": {
         "anchor": "y",
         "domain": [
          0,
          1
         ],
         "title": {
          "text": "type"
         }
        },
        "yaxis": {
         "anchor": "x",
         "domain": [
          0,
          1
         ],
         "title": {
          "text": "Counts"
         }
        }
       }
      }
     },
     "metadata": {},
     "output_type": "display_data"
    }
   ],
   "source": [
    "import plotly.express as px\n",
    "\n",
    "# Group data by 'type' and count occurrences\n",
    "sub_check = df.groupby('type').apply(lambda x: x['type'].count()).reset_index(name='Counts')\n",
    "\n",
    "# Create a scatterplot with size and color encoding based on counts\n",
    "fig = px.scatter(sub_check, x='type', y='Counts', size='Counts', color='Counts', title='Count of News Articles by Type')\n",
    "fig.update_traces(marker=dict(sizemode='diameter', sizeref=0.1)) # adjust marker size\n",
    "fig.show()\n"
   ]
  },
  {
   "cell_type": "markdown",
   "id": "1ad6ddb1",
   "metadata": {
    "papermill": {
     "duration": 0.031865,
     "end_time": "2021-08-01T10:27:38.348831",
     "exception": false,
     "start_time": "2021-08-01T10:27:38.316966",
     "status": "completed"
    },
    "tags": []
   },
   "source": [
    "here we can se that most news are of type bs (i.e. bullshit)"
   ]
  },
  {
   "cell_type": "code",
   "execution_count": 135,
   "id": "38d7a6db",
   "metadata": {
    "execution": {
     "iopub.execute_input": "2021-08-01T10:27:38.716070Z",
     "iopub.status.busy": "2021-08-01T10:27:38.699680Z",
     "iopub.status.idle": "2021-08-01T10:27:46.239791Z",
     "shell.execute_reply": "2021-08-01T10:27:46.240408Z",
     "shell.execute_reply.started": "2021-08-01T10:16:08.755379Z"
    },
    "papermill": {
     "duration": 7.859663,
     "end_time": "2021-08-01T10:27:46.240588",
     "exception": false,
     "start_time": "2021-08-01T10:27:38.380925",
     "status": "completed"
    },
    "tags": []
   },
   "outputs": [
    {
     "data": {
      "image/png": "[encoded data removed]",
      "text/plain": [
       "<Figure size 640x480 with 1 Axes>"
      ]
     },
     "metadata": {},
     "output_type": "display_data"
    }
   ],
   "source": [
    "from wordcloud import WordCloud\n",
    "import matplotlib.pyplot as plt\n",
    "\n",
    "# Create an instance of WordCloud with specified parameters\n",
    "wc = WordCloud(background_color=\"black\", max_words=100, max_font_size=256, random_state=42, width=1000, height=1000)\n",
    "\n",
    "# Generate the word cloud from the text data in the DataFrame\n",
    "wc.generate(' '.join(df['text_without_stopwords']))\n",
    "\n",
    "# Display the word cloud using matplotlib\n",
    "plt.imshow(wc)\n",
    "plt.axis('off')\n",
    "plt.show()\n"
   ]
  },
  {
   "cell_type": "markdown",
   "id": "939c2bd0",
   "metadata": {
    "papermill": {
     "duration": 0.033832,
     "end_time": "2021-08-01T10:27:46.309567",
     "exception": false,
     "start_time": "2021-08-01T10:27:46.275735",
     "status": "completed"
    },
    "tags": []
   },
   "source": [
    "### Visualizing top 10 unigrams and bigrams"
   ]
  },
  {
   "cell_type": "code",
   "execution_count": 136,
   "id": "20066fac",
   "metadata": {
    "execution": {
     "iopub.execute_input": "2021-08-01T10:27:46.381931Z",
     "iopub.status.busy": "2021-08-01T10:27:46.380963Z",
     "iopub.status.idle": "2021-08-01T10:27:46.389508Z",
     "shell.execute_reply": "2021-08-01T10:27:46.389973Z",
     "shell.execute_reply.started": "2021-08-01T10:16:14.133866Z"
    },
    "papermill": {
     "duration": 0.046295,
     "end_time": "2021-08-01T10:27:46.390170",
     "exception": false,
     "start_time": "2021-08-01T10:27:46.343875",
     "status": "completed"
    },
    "tags": []
   },
   "outputs": [],
   "source": [
    "from sklearn.feature_extraction.text import CountVectorizer\n",
    "\n",
    "# Function to get the top n words from a given corpus\n",
    "def get_top_n_words(corpus, n=None):\n",
    "    # Initialize a CountVectorizer and fit it to the corpus\n",
    "    vec = CountVectorizer().fit(corpus)\n",
    "    # Transform the corpus into a bag of words representation\n",
    "    bag_of_words = vec.transform(corpus)\n",
    "    # Sum the word occurrences along the axis 0 (columns) to get the total count for each word\n",
    "    sum_words = bag_of_words.sum(axis=0) \n",
    "    # Create a list of (word, count) tuples from the vocabulary of the CountVectorizer and the sum of word occurrences\n",
    "    words_freq = [(word, sum_words[0, idx]) for word, idx in vec.vocabulary_.items()]\n",
    "    # Sort the list of tuples based on the count in descending order\n",
    "    words_freq =sorted(words_freq, key = lambda x: x[1], reverse=True)\n",
    "    # Return the top n words based on the specified value of n\n",
    "    return words_freq[:n]\n",
    "\n",
    "# Function to get the top n bigrams from a given corpus\n",
    "def get_top_n_bigram(corpus, n=None):\n",
    "    # Initialize a CountVectorizer with ngram_range=(2, 2) to extract bigrams\n",
    "    vec = CountVectorizer(ngram_range=(2, 2)).fit(corpus)\n",
    "    # Transform the corpus into a bag of words representation\n",
    "    bag_of_words = vec.transform(corpus)\n",
    "    # Sum the bigram occurrences along the axis 0 (columns) to get the total count for each bigram\n",
    "    sum_words = bag_of_words.sum(axis=0) \n",
    "    # Create a list of (bigram, count) tuples from the vocabulary of the CountVectorizer and the sum of bigram occurrences\n",
    "    words_freq = [(word, sum_words[0, idx]) for word, idx in vec.vocabulary_.items()]\n",
    "    # Sort the list of tuples based on the count in descending order\n",
    "    words_freq =sorted(words_freq, key = lambda x: x[1], reverse=True)\n",
    "    # Return the top n bigrams based on the specified value of n\n",
    "    return words_freq[:n]\n",
    "\n",
    "# Function to get the average word length in a given corpus\n",
    "def get_avg_word_length(corpus):\n",
    "    # Initialize an empty list to store word lengths\n",
    "    word_lengths = []\n",
    "    # Loop through each document in the corpus\n",
    "    for doc in corpus:\n",
    "        # Split the document into words\n",
    "        words = doc.split()\n",
    "        # Loop through each word in the document and append its length to the list of word lengths\n",
    "        for word in words:\n",
    "            word_lengths.append(len(word))\n",
    "    # Calculate the average word length by dividing the sum of word lengths by the total number of words\n",
    "    avg_word_length = sum(word_lengths) / len(word_lengths)\n",
    "    # Return the average word length\n",
    "    return avg_word_length\n",
    "\n",
    "# Function to get the total number of words in a given corpus\n",
    "def get_total_word_count(corpus):\n",
    "    # Initialize a CountVectorizer and fit it to the corpus\n",
    "    vec = CountVectorizer().fit(corpus)\n",
    "    # Transform the corpus into a bag of words representation\n",
    "    bag_of_words = vec.transform(corpus)\n",
    "    # Sum the word occurrences along the axis 0 (columns) to get the total count for each word\n",
    "    sum_words = bag_of_words.sum(axis=0) \n",
    "    # Get the total word count by summing the values in the sum_words array\n",
    "    total_word_count = sum(sum_words)\n",
    "    # Return the total word count\n",
    "    return total\n"
   ]
  },
  {
   "cell_type": "code",
   "execution_count": 137,
   "id": "0cf95aa6",
   "metadata": {
    "execution": {
     "iopub.execute_input": "2021-08-01T10:27:46.480799Z",
     "iopub.status.busy": "2021-08-01T10:27:46.479684Z",
     "iopub.status.idle": "2021-08-01T10:27:48.190210Z",
     "shell.execute_reply": "2021-08-01T10:27:48.190669Z",
     "shell.execute_reply.started": "2021-08-01T10:16:14.145717Z"
    },
    "papermill": {
     "duration": 1.765272,
     "end_time": "2021-08-01T10:27:48.190840",
     "exception": false,
     "start_time": "2021-08-01T10:27:46.425568",
     "status": "completed"
    },
    "tags": []
   },
   "outputs": [
    {
     "data": {
      "image/png": "[encoded data removed]",
      "text/plain": [
       "<Figure size 1000x600 with 1 Axes>"
      ]
     },
     "metadata": {},
     "output_type": "display_data"
    }
   ],
   "source": [
    "import matplotlib.pyplot as plt\n",
    "import seaborn as sns\n",
    "\n",
    "# Assuming common_words is a list of tuples with ('word', count) pairs\n",
    "\n",
    "# Extracting word and count into separate lists\n",
    "words = [word for word, count in common_words]\n",
    "counts = [count for word, count in common_words]\n",
    "\n",
    "# Creating a dataframe from the lists\n",
    "df2 = pd.DataFrame({'word': words, 'count': counts})\n",
    "\n",
    "# Grouping by word and summing the counts\n",
    "df2 = df2.groupby('word').sum().reset_index()\n",
    "\n",
    "# Sorting by count in descending order\n",
    "df2 = df2.sort_values('count', ascending=False)\n",
    "\n",
    "# Creating a bar plot using seaborn\n",
    "plt.figure(figsize=(10, 6))\n",
    "sns.barplot(x='word', y='count', data=df2, palette='viridis')\n",
    "plt.title('Top 10 Unigrams')\n",
    "plt.xlabel('Word')\n",
    "plt.ylabel('Count')\n",
    "plt.xticks(rotation=45, ha='right')\n",
    "plt.show()\n"
   ]
  },
  {
   "cell_type": "code",
   "execution_count": 138,
   "id": "b8459cbd",
   "metadata": {
    "execution": {
     "iopub.execute_input": "2021-08-01T10:27:48.263518Z",
     "iopub.status.busy": "2021-08-01T10:27:48.262901Z",
     "iopub.status.idle": "2021-08-01T10:27:52.900007Z",
     "shell.execute_reply": "2021-08-01T10:27:52.899305Z",
     "shell.execute_reply.started": "2021-08-01T10:16:16.150823Z"
    },
    "papermill": {
     "duration": 4.674547,
     "end_time": "2021-08-01T10:27:52.900171",
     "exception": false,
     "start_time": "2021-08-01T10:27:48.225624",
     "status": "completed"
    },
    "tags": []
   },
   "outputs": [
    {
     "data": {
      "application/vnd.plotly.v1+json": {
       "config": {
        "plotlyServerURL": "https://plot.ly"
       },
       "data": [
        {
         "alignmentgroup": "True",
         "hovertemplate": "word=%{x}<br>count=%{marker.color}<extra></extra>",
         "legendgroup": "",
         "marker": {
          "color": [
           1073,
           885,
           499,
           335,
           324,
           248,
           230,
           209,
           205,
           185
          ],
          "coloraxis": "coloraxis",
          "pattern": {
           "shape": ""
          }
         },
         "name": "",
         "offsetgroup": "",
         "orientation": "v",
         "showlegend": false,
         "textposition": "auto",
         "type": "bar",
         "x": [
          "hillary clinton",
          "donald trump",
          "united states",
          "new york",
          "white house",
          "clinton campaign",
          "hillary clintons",
          "brain force",
          "bill clinton",
          "clinton foundation"
         ],
         "xaxis": "x",
         "y": [
          1073,
          885,
          499,
          335,
          324,
          248,
          230,
          209,
          205,
          185
         ],
         "yaxis": "y"
        }
       ],
       "layout": {
        "barmode": "relative",
        "coloraxis": {
         "colorbar": {
          "title": {
           "text": "count"
          }
         },
         "colorscale": [
          [
           0,
           "#0d0887"
          ],
          [
           0.1111111111111111,
           "#46039f"
          ],
          [
           0.2222222222222222,
           "#7201a8"
          ],
          [
           0.3333333333333333,
           "#9c179e"
          ],
          [
           0.4444444444444444,
           "#bd3786"
          ],
          [
           0.5555555555555556,
           "#d8576b"
          ],
          [
           0.6666666666666666,
           "#ed7953"
          ],
          [
           0.7777777777777778,
           "#fb9f3a"
          ],
          [
           0.8888888888888888,
           "#fdca26"
          ],
          [
           1,
           "#f0f921"
          ]
         ]
        },
        "legend": {
         "tracegroupgap": 0
        },
        "template": {
         "data": {
          "bar": [
           {
            "error_x": {
             "color": "#2a3f5f"
            },
            "error_y": {
             "color": "#2a3f5f"
            },
            "marker": {
             "line": {
              "color": "#E5ECF6",
              "width": 0.5
             },
             "pattern": {
              "fillmode": "overlay",
              "size": 10,
              "solidity": 0.2
             }
            },
            "type": "bar"
           }
          ],
          "barpolar": [
           {
            "marker": {
             "line": {
              "color": "#E5ECF6",
              "width": 0.5
             },
             "pattern": {
              "fillmode": "overlay",
              "size": 10,
              "solidity": 0.2
             }
            },
            "type": "barpolar"
           }
          ],
          "carpet": [
           {
            "aaxis": {
             "endlinecolor": "#2a3f5f",
             "gridcolor": "white",
             "linecolor": "white",
             "minorgridcolor": "white",
             "startlinecolor": "#2a3f5f"
            },
            "baxis": {
             "endlinecolor": "#2a3f5f",
             "gridcolor": "white",
             "linecolor": "white",
             "minorgridcolor": "white",
             "startlinecolor": "#2a3f5f"
            },
            "type": "carpet"
           }
          ],
          "choropleth": [
           {
            "colorbar": {
             "outlinewidth": 0,
             "ticks": ""
            },
            "type": "choropleth"
           }
          ],
          "contour": [
           {
            "colorbar": {
             "outlinewidth": 0,
             "ticks": ""
            },
            "colorscale": [
             [
              0,
              "#0d0887"
             ],
             [
              0.1111111111111111,
              "#46039f"
             ],
             [
              0.2222222222222222,
              "#7201a8"
             ],
             [
              0.3333333333333333,
              "#9c179e"
             ],
             [
              0.4444444444444444,
              "#bd3786"
             ],
             [
              0.5555555555555556,
              "#d8576b"
             ],
             [
              0.6666666666666666,
              "#ed7953"
             ],
             [
              0.7777777777777778,
              "#fb9f3a"
             ],
             [
              0.8888888888888888,
              "#fdca26"
             ],
             [
              1,
              "#f0f921"
             ]
            ],
            "type": "contour"
           }
          ],
          "contourcarpet": [
           {
            "colorbar": {
             "outlinewidth": 0,
             "ticks": ""
            },
            "type": "contourcarpet"
           }
          ],
          "heatmap": [
           {
            "colorbar": {
             "outlinewidth": 0,
             "ticks": ""
            },
            "colorscale": [
             [
              0,
              "#0d0887"
             ],
             [
              0.1111111111111111,
              "#46039f"
             ],
             [
              0.2222222222222222,
              "#7201a8"
             ],
             [
              0.3333333333333333,
              "#9c179e"
             ],
             [
              0.4444444444444444,
              "#bd3786"
             ],
             [
              0.5555555555555556,
              "#d8576b"
             ],
             [
              0.6666666666666666,
              "#ed7953"
             ],
             [
              0.7777777777777778,
              "#fb9f3a"
             ],
             [
              0.8888888888888888,
              "#fdca26"
             ],
             [
              1,
              "#f0f921"
             ]
            ],
            "type": "heatmap"
           }
          ],
          "heatmapgl": [
           {
            "colorbar": {
             "outlinewidth": 0,
             "ticks": ""
            },
            "colorscale": [
             [
              0,
              "#0d0887"
             ],
             [
              0.1111111111111111,
              "#46039f"
             ],
             [
              0.2222222222222222,
              "#7201a8"
             ],
             [
              0.3333333333333333,
              "#9c179e"
             ],
             [
              0.4444444444444444,
              "#bd3786"
             ],
             [
              0.5555555555555556,
              "#d8576b"
             ],
             [
              0.6666666666666666,
              "#ed7953"
             ],
             [
              0.7777777777777778,
              "#fb9f3a"
             ],
             [
              0.8888888888888888,
              "#fdca26"
             ],
             [
              1,
              "#f0f921"
             ]
            ],
            "type": "heatmapgl"
           }
          ],
          "histogram": [
           {
            "marker": {
             "pattern": {
              "fillmode": "overlay",
              "size": 10,
              "solidity": 0.2
             }
            },
            "type": "histogram"
           }
          ],
          "histogram2d": [
           {
            "colorbar": {
             "outlinewidth": 0,
             "ticks": ""
            },
            "colorscale": [
             [
              0,
              "#0d0887"
             ],
             [
              0.1111111111111111,
              "#46039f"
             ],
             [
              0.2222222222222222,
              "#7201a8"
             ],
             [
              0.3333333333333333,
              "#9c179e"
             ],
             [
              0.4444444444444444,
              "#bd3786"
             ],
             [
              0.5555555555555556,
              "#d8576b"
             ],
             [
              0.6666666666666666,
              "#ed7953"
             ],
             [
              0.7777777777777778,
              "#fb9f3a"
             ],
             [
              0.8888888888888888,
              "#fdca26"
             ],
             [
              1,
              "#f0f921"
             ]
            ],
            "type": "histogram2d"
           }
          ],
          "histogram2dcontour": [
           {
            "colorbar": {
             "outlinewidth": 0,
             "ticks": ""
            },
            "colorscale": [
             [
              0,
              "#0d0887"
             ],
             [
              0.1111111111111111,
              "#46039f"
             ],
             [
              0.2222222222222222,
              "#7201a8"
             ],
             [
              0.3333333333333333,
              "#9c179e"
             ],
             [
              0.4444444444444444,
              "#bd3786"
             ],
             [
              0.5555555555555556,
              "#d8576b"
             ],
             [
              0.6666666666666666,
              "#ed7953"
             ],
             [
              0.7777777777777778,
              "#fb9f3a"
             ],
             [
              0.8888888888888888,
              "#fdca26"
             ],
             [
              1,
              "#f0f921"
             ]
            ],
            "type": "histogram2dcontour"
           }
          ],
          "mesh3d": [
           {
            "colorbar": {
             "outlinewidth": 0,
             "ticks": ""
            },
            "type": "mesh3d"
           }
          ],
          "parcoords": [
           {
            "line": {
             "colorbar": {
              "outlinewidth": 0,
              "ticks": ""
             }
            },
            "type": "parcoords"
           }
          ],
          "pie": [
           {
            "automargin": true,
            "type": "pie"
           }
          ],
          "scatter": [
           {
            "fillpattern": {
             "fillmode": "overlay",
             "size": 10,
             "solidity": 0.2
            },
            "type": "scatter"
           }
          ],
          "scatter3d": [
           {
            "line": {
             "colorbar": {
              "outlinewidth": 0,
              "ticks": ""
             }
            },
            "marker": {
             "colorbar": {
              "outlinewidth": 0,
              "ticks": ""
             }
            },
            "type": "scatter3d"
           }
          ],
          "scattercarpet": [
           {
            "marker": {
             "colorbar": {
              "outlinewidth": 0,
              "ticks": ""
             }
            },
            "type": "scattercarpet"
           }
          ],
          "scattergeo": [
           {
            "marker": {
             "colorbar": {
              "outlinewidth": 0,
              "ticks": ""
             }
            },
            "type": "scattergeo"
           }
          ],
          "scattergl": [
           {
            "marker": {
             "colorbar": {
              "outlinewidth": 0,
              "ticks": ""
             }
            },
            "type": "scattergl"
           }
          ],
          "scattermapbox": [
           {
            "marker": {
             "colorbar": {
              "outlinewidth": 0,
              "ticks": ""
             }
            },
            "type": "scattermapbox"
           }
          ],
          "scatterpolar": [
           {
            "marker": {
             "colorbar": {
              "outlinewidth": 0,
              "ticks": ""
             }
            },
            "type": "scatterpolar"
           }
          ],
          "scatterpolargl": [
           {
            "marker": {
             "colorbar": {
              "outlinewidth": 0,
              "ticks": ""
             }
            },
            "type": "scatterpolargl"
           }
          ],
          "scatterternary": [
           {
            "marker": {
             "colorbar": {
              "outlinewidth": 0,
              "ticks": ""
             }
            },
            "type": "scatterternary"
           }
          ],
          "surface": [
           {
            "colorbar": {
             "outlinewidth": 0,
             "ticks": ""
            },
            "colorscale": [
             [
              0,
              "#0d0887"
             ],
             [
              0.1111111111111111,
              "#46039f"
             ],
             [
              0.2222222222222222,
              "#7201a8"
             ],
             [
              0.3333333333333333,
              "#9c179e"
             ],
             [
              0.4444444444444444,
              "#bd3786"
             ],
             [
              0.5555555555555556,
              "#d8576b"
             ],
             [
              0.6666666666666666,
              "#ed7953"
             ],
             [
              0.7777777777777778,
              "#fb9f3a"
             ],
             [
              0.8888888888888888,
              "#fdca26"
             ],
             [
              1,
              "#f0f921"
             ]
            ],
            "type": "surface"
           }
          ],
          "table": [
           {
            "cells": {
             "fill": {
              "color": "#EBF0F8"
             },
             "line": {
              "color": "white"
             }
            },
            "header": {
             "fill": {
              "color": "#C8D4E3"
             },
             "line": {
              "color": "white"
             }
            },
            "type": "table"
           }
          ]
         },
         "layout": {
          "annotationdefaults": {
           "arrowcolor": "#2a3f5f",
           "arrowhead": 0,
           "arrowwidth": 1
          },
          "autotypenumbers": "strict",
          "coloraxis": {
           "colorbar": {
            "outlinewidth": 0,
            "ticks": ""
           }
          },
          "colorscale": {
           "diverging": [
            [
             0,
             "#8e0152"
            ],
            [
             0.1,
             "#c51b7d"
            ],
            [
             0.2,
             "#de77ae"
            ],
            [
             0.3,
             "#f1b6da"
            ],
            [
             0.4,
             "#fde0ef"
            ],
            [
             0.5,
             "#f7f7f7"
            ],
            [
             0.6,
             "#e6f5d0"
            ],
            [
             0.7,
             "#b8e186"
            ],
            [
             0.8,
             "#7fbc41"
            ],
            [
             0.9,
             "#4d9221"
            ],
            [
             1,
             "#276419"
            ]
           ],
           "sequential": [
            [
             0,
             "#0d0887"
            ],
            [
             0.1111111111111111,
             "#46039f"
            ],
            [
             0.2222222222222222,
             "#7201a8"
            ],
            [
             0.3333333333333333,
             "#9c179e"
            ],
            [
             0.4444444444444444,
             "#bd3786"
            ],
            [
             0.5555555555555556,
             "#d8576b"
            ],
            [
             0.6666666666666666,
             "#ed7953"
            ],
            [
             0.7777777777777778,
             "#fb9f3a"
            ],
            [
             0.8888888888888888,
             "#fdca26"
            ],
            [
             1,
             "#f0f921"
            ]
           ],
           "sequentialminus": [
            [
             0,
             "#0d0887"
            ],
            [
             0.1111111111111111,
             "#46039f"
            ],
            [
             0.2222222222222222,
             "#7201a8"
            ],
            [
             0.3333333333333333,
             "#9c179e"
            ],
            [
             0.4444444444444444,
             "#bd3786"
            ],
            [
             0.5555555555555556,
             "#d8576b"
            ],
            [
             0.6666666666666666,
             "#ed7953"
            ],
            [
             0.7777777777777778,
             "#fb9f3a"
            ],
            [
             0.8888888888888888,
             "#fdca26"
            ],
            [
             1,
             "#f0f921"
            ]
           ]
          },
          "colorway": [
           "#636efa",
           "#EF553B",
           "#00cc96",
           "#ab63fa",
           "#FFA15A",
           "#19d3f3",
           "#FF6692",
           "#B6E880",
           "#FF97FF",
           "#FECB52"
          ],
          "font": {
           "color": "#2a3f5f"
          },
          "geo": {
           "bgcolor": "white",
           "lakecolor": "white",
           "landcolor": "#E5ECF6",
           "showlakes": true,
           "showland": true,
           "subunitcolor": "white"
          },
          "hoverlabel": {
           "align": "left"
          },
          "hovermode": "closest",
          "mapbox": {
           "style": "light"
          },
          "paper_bgcolor": "white",
          "plot_bgcolor": "#E5ECF6",
          "polar": {
           "angularaxis": {
            "gridcolor": "white",
            "linecolor": "white",
            "ticks": ""
           },
           "bgcolor": "#E5ECF6",
           "radialaxis": {
            "gridcolor": "white",
            "linecolor": "white",
            "ticks": ""
           }
          },
          "scene": {
           "xaxis": {
            "backgroundcolor": "#E5ECF6",
            "gridcolor": "white",
            "gridwidth": 2,
            "linecolor": "white",
            "showbackground": true,
            "ticks": "",
            "zerolinecolor": "white"
           },
           "yaxis": {
            "backgroundcolor": "#E5ECF6",
            "gridcolor": "white",
            "gridwidth": 2,
            "linecolor": "white",
            "showbackground": true,
            "ticks": "",
            "zerolinecolor": "white"
           },
           "zaxis": {
            "backgroundcolor": "#E5ECF6",
            "gridcolor": "white",
            "gridwidth": 2,
            "linecolor": "white",
            "showbackground": true,
            "ticks": "",
            "zerolinecolor": "white"
           }
          },
          "shapedefaults": {
           "line": {
            "color": "#2a3f5f"
           }
          },
          "ternary": {
           "aaxis": {
            "gridcolor": "white",
            "linecolor": "white",
            "ticks": ""
           },
           "baxis": {
            "gridcolor": "white",
            "linecolor": "white",
            "ticks": ""
           },
           "bgcolor": "#E5ECF6",
           "caxis": {
            "gridcolor": "white",
            "linecolor": "white",
            "ticks": ""
           }
          },
          "title": {
           "x": 0.05
          },
          "xaxis": {
           "automargin": true,
           "gridcolor": "white",
           "linecolor": "white",
           "ticks": "",
           "title": {
            "standoff": 15
           },
           "zerolinecolor": "white",
           "zerolinewidth": 2
          },
          "yaxis": {
           "automargin": true,
           "gridcolor": "white",
           "linecolor": "white",
           "ticks": "",
           "title": {
            "standoff": 15
           },
           "zerolinecolor": "white",
           "zerolinewidth": 2
          }
         }
        },
        "title": {
         "text": "Top 10 bigrams"
        },
        "xaxis": {
         "anchor": "y",
         "domain": [
          0,
          1
         ],
         "title": {
          "text": "word"
         }
        },
        "yaxis": {
         "anchor": "x",
         "domain": [
          0,
          1
         ],
         "title": {
          "text": "count"
         }
        }
       }
      }
     },
     "metadata": {},
     "output_type": "display_data"
    }
   ],
   "source": [
    "common_words = get_top_n_bigram(df['text_without_stopwords'], 10)\n",
    "df2 = pd.DataFrame(common_words,columns=['word','count'])\n",
    "df2.groupby('word').sum()['count'].sort_values(ascending=False)\n",
    "fig=px.bar(df2,x='word',y='count',color='count',title='Top 10 bigrams')\n",
    "fig.show()"
   ]
  },
  {
   "cell_type": "markdown",
   "id": "a2f1b56e",
   "metadata": {
    "papermill": {
     "duration": 0.03483,
     "end_time": "2021-08-01T10:27:52.970259",
     "exception": false,
     "start_time": "2021-08-01T10:27:52.935429",
     "status": "completed"
    },
    "tags": []
   },
   "source": [
    "### Visualizing top 5 authors "
   ]
  },
  {
   "cell_type": "code",
   "execution_count": 139,
   "id": "73e3a0f6",
   "metadata": {
    "execution": {
     "iopub.execute_input": "2021-08-01T10:27:53.093168Z",
     "iopub.status.busy": "2021-08-01T10:27:53.092404Z",
     "iopub.status.idle": "2021-08-01T10:27:53.265417Z",
     "shell.execute_reply": "2021-08-01T10:27:53.264839Z",
     "shell.execute_reply.started": "2021-08-01T10:16:19.55966Z"
    },
    "papermill": {
     "duration": 0.259726,
     "end_time": "2021-08-01T10:27:53.265564",
     "exception": false,
     "start_time": "2021-08-01T10:27:53.005838",
     "status": "completed"
    },
    "tags": []
   },
   "outputs": [
    {
     "data": {
      "image/png": "[encoded data removed]",
      "text/plain": [
       "<Figure size 1500x400 with 1 Axes>"
      ]
     },
     "metadata": {},
     "output_type": "display_data"
    }
   ],
   "source": [
    "d = df['author'].value_counts().sort_values(ascending=False).head(5)\n",
    "d = pd.DataFrame(d)\n",
    "d = d.reset_index() # dataframe with top 5 authors\n",
    "\n",
    "# Plotting\n",
    "sns.set()\n",
    "plt.figure(figsize=(15,4))\n",
    "sns.barplot(x='index', y='author', data=d)\n",
    "plt.xlabel(\"\\n Authors\")\n",
    "plt.ylabel(\"Number of Articles written\")\n",
    "plt.title(\"Top 5 authors\\n\")\n",
    "plt.show()"
   ]
  },
  {
   "cell_type": "markdown",
   "id": "018cb8e0",
   "metadata": {
    "papermill": {
     "duration": 0.035844,
     "end_time": "2021-08-01T10:27:53.337559",
     "exception": false,
     "start_time": "2021-08-01T10:27:53.301715",
     "status": "completed"
    },
    "tags": []
   },
   "source": [
    "### Visualizing top 10 fake news site"
   ]
  },
  {
   "cell_type": "code",
   "execution_count": 140,
   "id": "1979e519",
   "metadata": {
    "execution": {
     "iopub.execute_input": "2021-08-01T10:27:53.445988Z",
     "iopub.status.busy": "2021-08-01T10:27:53.425611Z",
     "iopub.status.idle": "2021-08-01T10:27:53.735392Z",
     "shell.execute_reply": "2021-08-01T10:27:53.734750Z",
     "shell.execute_reply.started": "2021-08-01T10:16:19.764617Z"
    },
    "papermill": {
     "duration": 0.361492,
     "end_time": "2021-08-01T10:27:53.735557",
     "exception": false,
     "start_time": "2021-08-01T10:27:53.374065",
     "status": "completed"
    },
    "tags": []
   },
   "outputs": [
    {
     "data": {
      "image/png": "[encoded data removed]",
      "text/plain": [
       "<Figure size 2500x700 with 1 Axes>"
      ]
     },
     "metadata": {},
     "output_type": "display_data"
    }
   ],
   "source": [
    "d = df[df['label'] == 'Fake']['site_url'].value_counts().sort_values(ascending=False).head(10)\n",
    "d = pd.DataFrame(d)\n",
    "d = d.reset_index() # dataframe with top 10 fake news site\n",
    "\n",
    "# Plotting\n",
    "sns.set()\n",
    "plt.figure(figsize=(25,7))\n",
    "sns.barplot(x='index', y='site_url', data=d)\n",
    "plt.xlabel(\"\\n site_url\")\n",
    "plt.ylabel(\"Number of Articles written\")\n",
    "plt.title(\"Top 10 Fake news sites\\n\")\n",
    "plt.show()\n"
   ]
  },
  {
   "cell_type": "markdown",
   "id": "54a11ecf",
   "metadata": {
    "papermill": {
     "duration": 0.044496,
     "end_time": "2021-08-01T10:27:53.828566",
     "exception": false,
     "start_time": "2021-08-01T10:27:53.784070",
     "status": "completed"
    },
    "tags": []
   },
   "source": [
    "### Let's have a look at the top 10 trustworthy news sites"
   ]
  },
  {
   "cell_type": "code",
   "execution_count": 141,
   "id": "9532bb63",
   "metadata": {
    "execution": {
     "iopub.execute_input": "2021-08-01T10:27:53.918804Z",
     "iopub.status.busy": "2021-08-01T10:27:53.918078Z",
     "iopub.status.idle": "2021-08-01T10:27:54.211705Z",
     "shell.execute_reply": "2021-08-01T10:27:54.211109Z",
     "shell.execute_reply.started": "2021-08-01T10:16:19.987224Z"
    },
    "papermill": {
     "duration": 0.341179,
     "end_time": "2021-08-01T10:27:54.211846",
     "exception": false,
     "start_time": "2021-08-01T10:27:53.870667",
     "status": "completed"
    },
    "tags": []
   },
   "outputs": [
    {
     "data": {
      "image/png": "[encoded data removed]",
      "text/plain": [
       "<Figure size 2500x700 with 1 Axes>"
      ]
     },
     "metadata": {},
     "output_type": "display_data"
    }
   ],
   "source": [
    "d = df[df['label'] == 'Real']['site_url'].value_counts().sort_values(ascending=False).head(10)\n",
    "d = pd.DataFrame(d)\n",
    "d = d.reset_index() # dataframe with top 10 Trustworthy news site\n",
    "\n",
    "# Plotting\n",
    "sns.set()\n",
    "plt.figure(figsize=(25,7))\n",
    "sns.barplot(x='index', y='site_url', data=d)\n",
    "plt.xlabel(\"\\n site_url\")\n",
    "plt.ylabel(\"Number of Articles written\")\n",
    "plt.title(\"Top 10 Trustworthy news sites\\n\")\n",
    "plt.show()"
   ]
  },
  {
   "cell_type": "code",
   "execution_count": 142,
   "id": "977896bb",
   "metadata": {
    "execution": {
     "iopub.execute_input": "2021-08-01T10:27:54.300794Z",
     "iopub.status.busy": "2021-08-01T10:27:54.298632Z",
     "iopub.status.idle": "2021-08-01T10:27:54.315873Z",
     "shell.execute_reply": "2021-08-01T10:27:54.315276Z",
     "shell.execute_reply.started": "2021-08-01T10:16:20.228538Z"
    },
    "papermill": {
     "duration": 0.064754,
     "end_time": "2021-08-01T10:27:54.315999",
     "exception": false,
     "start_time": "2021-08-01T10:27:54.251245",
     "status": "completed"
    },
    "tags": []
   },
   "outputs": [
    {
     "data": {
      "text/html": [
       "<div>\n",
       "<style scoped>\n",
       "    .dataframe tbody tr th:only-of-type {\n",
       "        vertical-align: middle;\n",
       "    }\n",
       "\n",
       "    .dataframe tbody tr th {\n",
       "        vertical-align: top;\n",
       "    }\n",
       "\n",
       "    .dataframe thead th {\n",
       "        text-align: right;\n",
       "    }\n",
       "</style>\n",
       "<table border=\"1\" class=\"dataframe\">\n",
       "  <thead>\n",
       "    <tr style=\"text-align: right;\">\n",
       "      <th></th>\n",
       "      <th>url_text</th>\n",
       "    </tr>\n",
       "  </thead>\n",
       "  <tbody>\n",
       "    <tr>\n",
       "      <th>1992</th>\n",
       "      <td>whatreallyhappened.com trump vs clinton risk v...</td>\n",
       "    </tr>\n",
       "    <tr>\n",
       "      <th>1729</th>\n",
       "      <td>returnofkings.com two hollywood films men leav...</td>\n",
       "    </tr>\n",
       "    <tr>\n",
       "      <th>1953</th>\n",
       "      <td>westernjournalism.com anatomy lesson published...</td>\n",
       "    </tr>\n",
       "    <tr>\n",
       "      <th>101</th>\n",
       "      <td>abeldanger.net dark alright sad twist fate bla...</td>\n",
       "    </tr>\n",
       "    <tr>\n",
       "      <th>1181</th>\n",
       "      <td>infowars.com aids patient zero source outbreak...</td>\n",
       "    </tr>\n",
       "  </tbody>\n",
       "</table>\n",
       "</div>"
      ],
      "text/plain": [
       "                                               url_text\n",
       "1992  whatreallyhappened.com trump vs clinton risk v...\n",
       "1729  returnofkings.com two hollywood films men leav...\n",
       "1953  westernjournalism.com anatomy lesson published...\n",
       "101   abeldanger.net dark alright sad twist fate bla...\n",
       "1181  infowars.com aids patient zero source outbreak..."
      ]
     },
     "execution_count": 142,
     "metadata": {},
     "output_type": "execute_result"
    }
   ],
   "source": [
    "#Let's reshuffle the dataset\n",
    "df = df.sample(frac = 1)\n",
    "\n",
    "#taking the features\n",
    "features = df[['site_url', 'text_without_stopwords']]\n",
    "features.head(5)\n",
    "\n",
    "features['url_text'] = features[\"site_url\"].astype(str) + \" \" + features[\"text_without_stopwords\"]\n",
    "features.drop(['site_url', 'text_without_stopwords'], axis = 1, inplace = True)\n",
    "\n",
    "features.head()"
   ]
  },
  {
   "cell_type": "code",
   "execution_count": 143,
   "id": "1690fa4c",
   "metadata": {
    "execution": {
     "iopub.execute_input": "2021-08-01T10:27:54.401086Z",
     "iopub.status.busy": "2021-08-01T10:27:54.400115Z",
     "iopub.status.idle": "2021-08-01T10:27:54.403377Z",
     "shell.execute_reply": "2021-08-01T10:27:54.402773Z",
     "shell.execute_reply.started": "2021-08-01T10:16:20.247643Z"
    },
    "papermill": {
     "duration": 0.047701,
     "end_time": "2021-08-01T10:27:54.403515",
     "exception": false,
     "start_time": "2021-08-01T10:27:54.355814",
     "status": "completed"
    },
    "tags": []
   },
   "outputs": [],
   "source": [
    "X = features\n",
    "y = df['type']\n",
    "y = y.tolist()"
   ]
  },
  {
   "cell_type": "code",
   "execution_count": 144,
   "id": "ece613a7",
   "metadata": {
    "execution": {
     "iopub.execute_input": "2021-08-01T10:27:54.485662Z",
     "iopub.status.busy": "2021-08-01T10:27:54.485016Z",
     "iopub.status.idle": "2021-08-01T10:27:55.340110Z",
     "shell.execute_reply": "2021-08-01T10:27:55.339538Z",
     "shell.execute_reply.started": "2021-08-01T10:16:20.263485Z"
    },
    "papermill": {
     "duration": 0.897453,
     "end_time": "2021-08-01T10:27:55.340257",
     "exception": false,
     "start_time": "2021-08-01T10:27:54.442804",
     "status": "completed"
    },
    "tags": []
   },
   "outputs": [],
   "source": [
    "#Splitting the dataset and using TF-IDF\n",
    "from sklearn.feature_extraction.text import TfidfVectorizer\n",
    "X_train, X_test, y_train, y_test = train_test_split(X, y, test_size = 0.25, random_state = 0)\n",
    "\n",
    "tfidf_vectorizer = TfidfVectorizer(use_idf = True, stop_words = 'english')\n",
    "\n",
    "X_train_tfidf = tfidf_vectorizer.fit_transform(X_train['url_text'])\n",
    "X_test_tfidf = tfidf_vectorizer.transform(X_test['url_text'])"
   ]
  },
  {
   "cell_type": "code",
   "execution_count": 145,
   "id": "579820cc",
   "metadata": {
    "execution": {
     "iopub.execute_input": "2021-08-01T10:27:55.424850Z",
     "iopub.status.busy": "2021-08-01T10:27:55.424170Z",
     "iopub.status.idle": "2021-08-01T10:27:55.846113Z",
     "shell.execute_reply": "2021-08-01T10:27:55.845567Z",
     "shell.execute_reply.started": "2021-08-01T10:16:21.327439Z"
    },
    "papermill": {
     "duration": 0.46624,
     "end_time": "2021-08-01T10:27:55.846286",
     "exception": false,
     "start_time": "2021-08-01T10:27:55.380046",
     "status": "completed"
    },
    "tags": []
   },
   "outputs": [],
   "source": [
    "tfidf_train = pd.DataFrame(X_train_tfidf.A, columns = tfidf_vectorizer.get_feature_names())"
   ]
  },
  {
   "cell_type": "code",
   "execution_count": 146,
   "id": "2e506cf2",
   "metadata": {
    "execution": {
     "iopub.execute_input": "2021-08-01T10:27:55.939219Z",
     "iopub.status.busy": "2021-08-01T10:27:55.938090Z",
     "iopub.status.idle": "2021-08-01T10:27:55.973490Z",
     "shell.execute_reply": "2021-08-01T10:27:55.972853Z",
     "shell.execute_reply.started": "2021-08-01T10:16:21.512928Z"
    },
    "papermill": {
     "duration": 0.086941,
     "end_time": "2021-08-01T10:27:55.973644",
     "exception": false,
     "start_time": "2021-08-01T10:27:55.886703",
     "status": "completed"
    },
    "tags": []
   },
   "outputs": [
    {
     "data": {
      "text/html": [
       "<div>\n",
       "<style scoped>\n",
       "    .dataframe tbody tr th:only-of-type {\n",
       "        vertical-align: middle;\n",
       "    }\n",
       "\n",
       "    .dataframe tbody tr th {\n",
       "        vertical-align: top;\n",
       "    }\n",
       "\n",
       "    .dataframe thead th {\n",
       "        text-align: right;\n",
       "    }\n",
       "</style>\n",
       "<table border=\"1\" class=\"dataframe\">\n",
       "  <thead>\n",
       "    <tr style=\"text-align: right;\">\n",
       "      <th></th>\n",
       "      <th>100percentfedup</th>\n",
       "      <th>21stcenturywire</th>\n",
       "      <th>___</th>\n",
       "      <th>_url</th>\n",
       "      <th>aa</th>\n",
       "      <th>aab</th>\n",
       "      <th>aadmi</th>\n",
       "      <th>aafe</th>\n",
       "      <th>aah</th>\n",
       "      <th>aaja</th>\n",
       "      <th>...</th>\n",
       "      <th>überraschende</th>\n",
       "      <th>überreden</th>\n",
       "      <th>überreicht</th>\n",
       "      <th>überschwänglich</th>\n",
       "      <th>übertrieben</th>\n",
       "      <th>überwachungskamera</th>\n",
       "      <th>überwältigen</th>\n",
       "      <th>übrig</th>\n",
       "      <th>übrige</th>\n",
       "      <th>übte</th>\n",
       "    </tr>\n",
       "  </thead>\n",
       "  <tbody>\n",
       "    <tr>\n",
       "      <th>0</th>\n",
       "      <td>0.0</td>\n",
       "      <td>0.0</td>\n",
       "      <td>0.0</td>\n",
       "      <td>0.0</td>\n",
       "      <td>0.0</td>\n",
       "      <td>0.0</td>\n",
       "      <td>0.0</td>\n",
       "      <td>0.0</td>\n",
       "      <td>0.0</td>\n",
       "      <td>0.0</td>\n",
       "      <td>...</td>\n",
       "      <td>0.0</td>\n",
       "      <td>0.0</td>\n",
       "      <td>0.0</td>\n",
       "      <td>0.0</td>\n",
       "      <td>0.0</td>\n",
       "      <td>0.0</td>\n",
       "      <td>0.0</td>\n",
       "      <td>0.0</td>\n",
       "      <td>0.0</td>\n",
       "      <td>0.0</td>\n",
       "    </tr>\n",
       "    <tr>\n",
       "      <th>1</th>\n",
       "      <td>0.0</td>\n",
       "      <td>0.0</td>\n",
       "      <td>0.0</td>\n",
       "      <td>0.0</td>\n",
       "      <td>0.0</td>\n",
       "      <td>0.0</td>\n",
       "      <td>0.0</td>\n",
       "      <td>0.0</td>\n",
       "      <td>0.0</td>\n",
       "      <td>0.0</td>\n",
       "      <td>...</td>\n",
       "      <td>0.0</td>\n",
       "      <td>0.0</td>\n",
       "      <td>0.0</td>\n",
       "      <td>0.0</td>\n",
       "      <td>0.0</td>\n",
       "      <td>0.0</td>\n",
       "      <td>0.0</td>\n",
       "      <td>0.0</td>\n",
       "      <td>0.0</td>\n",
       "      <td>0.0</td>\n",
       "    </tr>\n",
       "    <tr>\n",
       "      <th>2</th>\n",
       "      <td>0.0</td>\n",
       "      <td>0.0</td>\n",
       "      <td>0.0</td>\n",
       "      <td>0.0</td>\n",
       "      <td>0.0</td>\n",
       "      <td>0.0</td>\n",
       "      <td>0.0</td>\n",
       "      <td>0.0</td>\n",
       "      <td>0.0</td>\n",
       "      <td>0.0</td>\n",
       "      <td>...</td>\n",
       "      <td>0.0</td>\n",
       "      <td>0.0</td>\n",
       "      <td>0.0</td>\n",
       "      <td>0.0</td>\n",
       "      <td>0.0</td>\n",
       "      <td>0.0</td>\n",
       "      <td>0.0</td>\n",
       "      <td>0.0</td>\n",
       "      <td>0.0</td>\n",
       "      <td>0.0</td>\n",
       "    </tr>\n",
       "    <tr>\n",
       "      <th>3</th>\n",
       "      <td>0.0</td>\n",
       "      <td>0.0</td>\n",
       "      <td>0.0</td>\n",
       "      <td>0.0</td>\n",
       "      <td>0.0</td>\n",
       "      <td>0.0</td>\n",
       "      <td>0.0</td>\n",
       "      <td>0.0</td>\n",
       "      <td>0.0</td>\n",
       "      <td>0.0</td>\n",
       "      <td>...</td>\n",
       "      <td>0.0</td>\n",
       "      <td>0.0</td>\n",
       "      <td>0.0</td>\n",
       "      <td>0.0</td>\n",
       "      <td>0.0</td>\n",
       "      <td>0.0</td>\n",
       "      <td>0.0</td>\n",
       "      <td>0.0</td>\n",
       "      <td>0.0</td>\n",
       "      <td>0.0</td>\n",
       "    </tr>\n",
       "    <tr>\n",
       "      <th>4</th>\n",
       "      <td>0.0</td>\n",
       "      <td>0.0</td>\n",
       "      <td>0.0</td>\n",
       "      <td>0.0</td>\n",
       "      <td>0.0</td>\n",
       "      <td>0.0</td>\n",
       "      <td>0.0</td>\n",
       "      <td>0.0</td>\n",
       "      <td>0.0</td>\n",
       "      <td>0.0</td>\n",
       "      <td>...</td>\n",
       "      <td>0.0</td>\n",
       "      <td>0.0</td>\n",
       "      <td>0.0</td>\n",
       "      <td>0.0</td>\n",
       "      <td>0.0</td>\n",
       "      <td>0.0</td>\n",
       "      <td>0.0</td>\n",
       "      <td>0.0</td>\n",
       "      <td>0.0</td>\n",
       "      <td>0.0</td>\n",
       "    </tr>\n",
       "  </tbody>\n",
       "</table>\n",
       "<p>5 rows × 40538 columns</p>\n",
       "</div>"
      ],
      "text/plain": [
       "   100percentfedup  21stcenturywire  ___  _url   aa  aab  aadmi  aafe  aah  \\\n",
       "0              0.0              0.0  0.0   0.0  0.0  0.0    0.0   0.0  0.0   \n",
       "1              0.0              0.0  0.0   0.0  0.0  0.0    0.0   0.0  0.0   \n",
       "2              0.0              0.0  0.0   0.0  0.0  0.0    0.0   0.0  0.0   \n",
       "3              0.0              0.0  0.0   0.0  0.0  0.0    0.0   0.0  0.0   \n",
       "4              0.0              0.0  0.0   0.0  0.0  0.0    0.0   0.0  0.0   \n",
       "\n",
       "   aaja  ...  überraschende  überreden  überreicht  überschwänglich  \\\n",
       "0   0.0  ...            0.0        0.0         0.0              0.0   \n",
       "1   0.0  ...            0.0        0.0         0.0              0.0   \n",
       "2   0.0  ...            0.0        0.0         0.0              0.0   \n",
       "3   0.0  ...            0.0        0.0         0.0              0.0   \n",
       "4   0.0  ...            0.0        0.0         0.0              0.0   \n",
       "\n",
       "   übertrieben  überwachungskamera  überwältigen  übrig  übrige  übte  \n",
       "0          0.0                 0.0           0.0    0.0     0.0   0.0  \n",
       "1          0.0                 0.0           0.0    0.0     0.0   0.0  \n",
       "2          0.0                 0.0           0.0    0.0     0.0   0.0  \n",
       "3          0.0                 0.0           0.0    0.0     0.0   0.0  \n",
       "4          0.0                 0.0           0.0    0.0     0.0   0.0  \n",
       "\n",
       "[5 rows x 40538 columns]"
      ]
     },
     "execution_count": 146,
     "metadata": {},
     "output_type": "execute_result"
    }
   ],
   "source": [
    "tfidf_train.head(10)"
   ]
  },
  {
   "cell_type": "markdown",
   "id": "66b63b08",
   "metadata": {
    "papermill": {
     "duration": 0.040002,
     "end_time": "2021-08-01T10:27:56.058043",
     "exception": false,
     "start_time": "2021-08-01T10:27:56.018041",
     "status": "completed"
    },
    "tags": []
   },
   "source": [
    "Above is the representation of tf-idf matrix"
   ]
  },
  {
   "cell_type": "markdown",
   "id": "3ab4d876",
   "metadata": {
    "papermill": {
     "duration": 0.039937,
     "end_time": "2021-08-01T10:27:56.138414",
     "exception": false,
     "start_time": "2021-08-01T10:27:56.098477",
     "status": "completed"
    },
    "tags": []
   },
   "source": [
    "---\n",
    "<p style=\"font-family: Arials; line-height: 1.3; font-size: 27px; font-weight: bold; letter-spacing: 2px; text-align: center; color: #23527c\">Modelling</p>"
   ]
  },
  {
   "cell_type": "code",
   "execution_count": 147,
   "id": "ee377e89",
   "metadata": {
    "execution": {
     "iopub.execute_input": "2021-08-01T10:27:56.224525Z",
     "iopub.status.busy": "2021-08-01T10:27:56.223806Z",
     "iopub.status.idle": "2021-08-01T10:28:32.451595Z",
     "shell.execute_reply": "2021-08-01T10:28:32.452272Z",
     "shell.execute_reply.started": "2021-08-01T10:16:21.554365Z"
    },
    "papermill": {
     "duration": 36.273887,
     "end_time": "2021-08-01T10:28:32.452524",
     "exception": false,
     "start_time": "2021-08-01T10:27:56.178637",
     "status": "completed"
    },
    "tags": []
   },
   "outputs": [
    {
     "name": "stdout",
     "output_type": "stream",
     "text": [
      "accuracy: 0.930\n"
     ]
    }
   ],
   "source": [
    "Adab = AdaBoostClassifier(DecisionTreeClassifier(max_depth=10),n_estimators=5,random_state=1)\n",
    "Adab.fit(tfidf_train, y_train)\n",
    "y_pred3 = Adab.predict(X_test_tfidf)\n",
    "ABscore = metrics.accuracy_score(y_test,y_pred3)\n",
    "print(\"accuracy: %0.3f\" %ABscore)"
   ]
  }
 ],
 "metadata": {
  "kernelspec": {
   "display_name": "Python 3",
   "language": "python",
   "name": "python3"
  },
  "language_info": {
   "codemirror_mode": {
    "name": "ipython",
    "version": 3
   },
   "file_extension": ".py",
   "mimetype": "text/x-python",
   "name": "python",
   "nbconvert_exporter": "python",
   "pygments_lexer": "ipython3",
   "version": "3.9.13"
  },
  "papermill": {
   "default_parameters": {},
   "duration": 79.847819,
   "end_time": "2021-08-01T10:28:34.687311",
   "environment_variables": {},
   "exception": null,
   "input_path": "__notebook__.ipynb",
   "output_path": "__notebook__.ipynb",
   "parameters": {},
   "start_time": "2021-08-01T10:27:14.839492",
   "version": "2.3.3"
  }
 },
 "nbformat": 4,
 "nbformat_minor": 5
}
