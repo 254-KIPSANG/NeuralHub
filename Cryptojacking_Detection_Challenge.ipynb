{
  "cells": [
    {
      "cell_type": "markdown",
      "metadata": {
        "id": "view-in-github",
        "colab_type": "text"
      },
      "source": [
        "<a href=\"https://colab.research.google.com/github/CYRCHER/NeuralHub/blob/main/Cryptojacking_Detection_Challenge.ipynb\" target=\"_parent\"><img src=\"https://colab.research.google.com/assets/colab-badge.svg\" alt=\"Open In Colab\"/></a>"
      ]
    },
    {
      "cell_type": "code",
      "execution_count": 1,
      "id": "dbc3fa39",
      "metadata": {
        "id": "dbc3fa39"
      },
      "outputs": [],
      "source": [
        "import psutil\n",
        "import socket\n",
        "import requests\n",
        "import re\n"
      ]
    },
    {
      "cell_type": "code",
      "execution_count": 2,
      "id": "6ed3f9ac",
      "metadata": {
        "id": "6ed3f9ac"
      },
      "outputs": [],
      "source": [
        "# Monitoring CPU usage\n",
        "def check_cpu():\n",
        "    cpu_percent = psutil.cpu_percent()\n",
        "    if cpu_percent > 80:\n",
        "        print(\"CPU usage is high. Possible cryptojacking activity.\")\n",
        "    else:\n",
        "        print(\"CPU usage is normal.\")\n",
        "\n"
      ]
    },
    {
      "cell_type": "code",
      "execution_count": 3,
      "id": "09a24d0d",
      "metadata": {
        "id": "09a24d0d"
      },
      "outputs": [],
      "source": [
        "# Network traffic analysis\n",
        "def check_network():\n",
        "    for conn in psutil.net_connections(kind='tcp'):\n",
        "        if conn.status == psutil.CONN_ESTABLISHED and 'pool.minergate.com' in conn.remote_address[0]:\n",
        "            print(\"Network activity detected. Possible cryptojacking activity.\")\n",
        "\n"
      ]
    },
    {
      "cell_type": "code",
      "execution_count": 4,
      "id": "1784c957",
      "metadata": {
        "id": "1784c957"
      },
      "outputs": [],
      "source": [
        "# Signature-based detection\n",
        "def check_signature():\n",
        "    response = requests.get('https://www.cloudflare.com/cdn-cgi/scripts/cf.min.js')\n",
        "    if 'var miner' in response.text:\n",
        "        print(\"Cryptojacking signature detected.\")\n",
        "\n"
      ]
    },
    {
      "cell_type": "code",
      "execution_count": 5,
      "id": "3fe0bb34",
      "metadata": {
        "id": "3fe0bb34"
      },
      "outputs": [],
      "source": [
        "# Behavioral analysis\n",
        "def check_behaviour():\n",
        "    for process in psutil.process_iter(['pid', 'name']):\n",
        "        if process.name() == 'xmrig' or process.name() == 'minergate':\n",
        "            print(\"Cryptojacking process detected.\")\n",
        "            return\n",
        "\n",
        "    print(\"No cryptojacking process detected.\")\n",
        "\n"
      ]
    },
    {
      "cell_type": "code",
      "execution_count": 9,
      "id": "a0906371",
      "metadata": {
        "id": "a0906371"
      },
      "outputs": [],
      "source": [
        "# Monitoring CPU usage\n",
        "def check_cpu():\n",
        "    cpu_percent = psutil.cpu_percent(interval=1, percpu=True)\n",
        "    for i, percent in enumerate(cpu_percent):\n",
        "        print(f\"CPU {i}: {percent}% usage\")\n",
        "        if percent > 80:\n",
        "            print(f\"CPU {i} usage is high. Possible cryptojacking activity.\")\n",
        "        else:\n",
        "            print(f\"CPU {i} usage is normal.\")\n"
      ]
    },
    {
      "cell_type": "code",
      "execution_count": 10,
      "id": "009c781d",
      "metadata": {
        "colab": {
          "base_uri": "https://localhost:8080/",
          "height": 426
        },
        "id": "009c781d",
        "outputId": "fd302dfa-460e-4d77-caec-253133e3fb79"
      },
      "outputs": [
        {
          "output_type": "stream",
          "name": "stdout",
          "text": [
            "CPU 0: 4.0% usage\n",
            "CPU 0 usage is normal.\n",
            "CPU 1: 5.0% usage\n",
            "CPU 1 usage is normal.\n"
          ]
        },
        {
          "output_type": "error",
          "ename": "AttributeError",
          "evalue": "ignored",
          "traceback": [
            "\u001b[0;31m---------------------------------------------------------------------------\u001b[0m",
            "\u001b[0;31mAttributeError\u001b[0m                            Traceback (most recent call last)",
            "\u001b[0;32m<ipython-input-10-6152f91ece90>\u001b[0m in \u001b[0;36m<module>\u001b[0;34m\u001b[0m\n\u001b[1;32m      1\u001b[0m \u001b[0;31m# Run all checks\u001b[0m\u001b[0;34m\u001b[0m\u001b[0;34m\u001b[0m\u001b[0m\n\u001b[1;32m      2\u001b[0m \u001b[0mcheck_cpu\u001b[0m\u001b[0;34m(\u001b[0m\u001b[0;34m)\u001b[0m\u001b[0;34m\u001b[0m\u001b[0;34m\u001b[0m\u001b[0m\n\u001b[0;32m----> 3\u001b[0;31m \u001b[0mcheck_network\u001b[0m\u001b[0;34m(\u001b[0m\u001b[0;34m)\u001b[0m\u001b[0;34m\u001b[0m\u001b[0;34m\u001b[0m\u001b[0m\n\u001b[0m\u001b[1;32m      4\u001b[0m \u001b[0mcheck_signature\u001b[0m\u001b[0;34m(\u001b[0m\u001b[0;34m)\u001b[0m\u001b[0;34m\u001b[0m\u001b[0;34m\u001b[0m\u001b[0m\n\u001b[1;32m      5\u001b[0m \u001b[0mcheck_behaviour\u001b[0m\u001b[0;34m(\u001b[0m\u001b[0;34m)\u001b[0m\u001b[0;34m\u001b[0m\u001b[0;34m\u001b[0m\u001b[0m\n",
            "\u001b[0;32m<ipython-input-3-0bd9aa5ed314>\u001b[0m in \u001b[0;36mcheck_network\u001b[0;34m()\u001b[0m\n\u001b[1;32m      2\u001b[0m \u001b[0;32mdef\u001b[0m \u001b[0mcheck_network\u001b[0m\u001b[0;34m(\u001b[0m\u001b[0;34m)\u001b[0m\u001b[0;34m:\u001b[0m\u001b[0;34m\u001b[0m\u001b[0;34m\u001b[0m\u001b[0m\n\u001b[1;32m      3\u001b[0m     \u001b[0;32mfor\u001b[0m \u001b[0mconn\u001b[0m \u001b[0;32min\u001b[0m \u001b[0mpsutil\u001b[0m\u001b[0;34m.\u001b[0m\u001b[0mnet_connections\u001b[0m\u001b[0;34m(\u001b[0m\u001b[0mkind\u001b[0m\u001b[0;34m=\u001b[0m\u001b[0;34m'tcp'\u001b[0m\u001b[0;34m)\u001b[0m\u001b[0;34m:\u001b[0m\u001b[0;34m\u001b[0m\u001b[0;34m\u001b[0m\u001b[0m\n\u001b[0;32m----> 4\u001b[0;31m         \u001b[0;32mif\u001b[0m \u001b[0mconn\u001b[0m\u001b[0;34m.\u001b[0m\u001b[0mstatus\u001b[0m \u001b[0;34m==\u001b[0m \u001b[0mpsutil\u001b[0m\u001b[0;34m.\u001b[0m\u001b[0mCONN_ESTABLISHED\u001b[0m \u001b[0;32mand\u001b[0m \u001b[0;34m'pool.minergate.com'\u001b[0m \u001b[0;32min\u001b[0m \u001b[0mconn\u001b[0m\u001b[0;34m.\u001b[0m\u001b[0mremote_address\u001b[0m\u001b[0;34m[\u001b[0m\u001b[0;36m0\u001b[0m\u001b[0;34m]\u001b[0m\u001b[0;34m:\u001b[0m\u001b[0;34m\u001b[0m\u001b[0;34m\u001b[0m\u001b[0m\n\u001b[0m\u001b[1;32m      5\u001b[0m             \u001b[0mprint\u001b[0m\u001b[0;34m(\u001b[0m\u001b[0;34m\"Network activity detected. Possible cryptojacking activity.\"\u001b[0m\u001b[0;34m)\u001b[0m\u001b[0;34m\u001b[0m\u001b[0;34m\u001b[0m\u001b[0m\n\u001b[1;32m      6\u001b[0m \u001b[0;34m\u001b[0m\u001b[0m\n",
            "\u001b[0;31mAttributeError\u001b[0m: 'sconn' object has no attribute 'remote_address'"
          ]
        }
      ],
      "source": [
        "# Run all checks\n",
        "check_cpu()\n",
        "check_network()\n",
        "check_signature()\n",
        "check_behaviour()\n",
        "check_extension()"
      ]
    }
  ],
  "metadata": {
    "kernelspec": {
      "display_name": "Python 3 (ipykernel)",
      "language": "python",
      "name": "python3"
    },
    "language_info": {
      "codemirror_mode": {
        "name": "ipython",
        "version": 3
      },
      "file_extension": ".py",
      "mimetype": "text/x-python",
      "name": "python",
      "nbconvert_exporter": "python",
      "pygments_lexer": "ipython3",
      "version": "3.9.13"
    },
    "colab": {
      "provenance": [],
      "include_colab_link": true
    }
  },
  "nbformat": 4,
  "nbformat_minor": 5
}